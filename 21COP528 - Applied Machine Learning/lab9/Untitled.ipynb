{
 "cells": [
  {
   "cell_type": "code",
   "execution_count": 1,
   "id": "7197a8a3",
   "metadata": {},
   "outputs": [],
   "source": [
    "#Getting the data ready\n",
    "import pandas as pd\n",
    "import numpy as np\n",
    "import matplotlib.pyplot as plt\n",
    "from sklearn.model_selection import train_test_split\n",
    "data = pd.read_csv('default of credit card clients.csv')\n",
    "# print(data.head(3))\n",
    "df = data.iloc[1:,1:24]\n",
    "label=data.iloc[1:,-1]\n",
    "#Random Forest\n",
    "#Fristly, the dataset is divided into data_train and data_testto simulate the training data and the new arrivals\n",
    "X_train, X_test, Y_train, Y_test = train_test_split(df,label,test_size=0.4)"
   ]
  },
  {
   "cell_type": "code",
   "execution_count": 3,
   "id": "41f21b9a",
   "metadata": {},
   "outputs": [
    {
     "name": "stdout",
     "output_type": "stream",
     "text": [
      "Single Tree:0.7242592592592593 Random Forest:0.817037037037037\n"
     ]
    }
   ],
   "source": [
    "#Random Forest\n",
    "#parameters\n",
    "# n_estimators: the number of decision tree models in the random forest model\n",
    "# max_depth: the maximum depth of the decision tree model\n",
    "# max_features: the maximum number of features to be selected when building the decision tree\n",
    "# min_samples_leaf: the minimum number of samples of leaf nodes\n",
    "# min_samples_split: the minimum number of samples allowed to be split by the current node\n",
    "# criterion: the basis for node splitting\n",
    "from sklearn.tree import DecisionTreeClassifier\n",
    "from sklearn.ensemble import RandomForestClassifier\n",
    "from sklearn.model_selection import StratifiedShuffleSplit\n",
    "from sklearn.model_selection import cross_val_score\n",
    "from sklearn.model_selection import GridSearchCV\n",
    "import matplotlib.pyplot as plt\n",
    "import time\n",
    "# Let's first look at the comparison between decision trees and random forests (both with default parameters)\n",
    "# For train data, it can often be divided into a train_set for training the model and a validation_set for evaluating\n",
    "#the selection of the model during the training process.\n",
    "X_trainset, X_valset, Y_trainset, Y_valset = train_test_split(X_train,Y_train,test_size=0.3)\n",
    "clf = DecisionTreeClassifier(random_state=0)\n",
    "rfc = RandomForestClassifier(random_state=0)\n",
    "clf = clf.fit(X_trainset,Y_trainset)\n",
    "rfc = rfc.fit(X_trainset,Y_trainset)\n",
    "score_c = clf.score(X_valset,Y_valset)\n",
    "score_r = rfc.score(X_valset,Y_valset)\n",
    "print(\"Single Tree:{}\".format(score_c),\"Random Forest:{}\".format(score_r))"
   ]
  },
  {
   "cell_type": "code",
   "execution_count": 4,
   "id": "258e60d8",
   "metadata": {},
   "outputs": [
    {
     "data": {
      "image/png": "[encoded data removed]",
      "text/plain": [
       "<Figure size 432x288 with 1 Axes>"
      ]
     },
     "metadata": {
      "needs_background": "light"
     },
     "output_type": "display_data"
    }
   ],
   "source": [
    "rfc_l = []\n",
    "clf_l = []\n",
    "for i in range(10):\n",
    " rfc = RandomForestClassifier(n_estimators=25)\n",
    " rfc_s = cross_val_score(rfc,X_train,Y_train,cv=10).mean()\n",
    " rfc_l.append(rfc_s)\n",
    " clf = DecisionTreeClassifier()\n",
    " clf_s = cross_val_score(clf,X_train,Y_train,cv=10).mean()\n",
    " clf_l.append(clf_s)\n",
    "plt.plot(range(1,11),rfc_l,label = \"Random Forest\")\n",
    "plt.plot(range(1,11),clf_l,label = \"Decision Tree\")\n",
    "plt.legend()\n",
    "plt.show()"
   ]
  },
  {
   "cell_type": "code",
   "execution_count": null,
   "id": "1eef06b5",
   "metadata": {},
   "outputs": [],
   "source": []
  }
 ],
 "metadata": {
  "kernelspec": {
   "display_name": "Python 3 (ipykernel)",
   "language": "python",
   "name": "python3"
  },
  "language_info": {
   "codemirror_mode": {
    "name": "ipython",
    "version": 3
   },
   "file_extension": ".py",
   "mimetype": "text/x-python",
   "name": "python",
   "nbconvert_exporter": "python",
   "pygments_lexer": "ipython3",
   "version": "3.9.7"
  }
 },
 "nbformat": 4,
 "nbformat_minor": 5
}

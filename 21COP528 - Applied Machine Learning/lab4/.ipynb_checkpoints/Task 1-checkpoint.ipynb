{
 "cells": [
  {
   "cell_type": "code",
   "execution_count": 1,
   "id": "5db01285",
   "metadata": {},
   "outputs": [],
   "source": [
    "from sklearn.datasets import load_iris\n",
    "from sklearn.cluster import AgglomerativeClustering\n",
    "import numpy as np\n",
    "import matplotlib.pyplot as plt\n"
   ]
  },
  {
   "cell_type": "code",
   "execution_count": 6,
   "id": "d81ed569",
   "metadata": {
    "collapsed": true
   },
   "outputs": [
    {
     "name": "stdout",
     "output_type": "stream",
     "text": [
      "{'data': array([[5.1, 3.5, 1.4, 0.2],\n",
      "       [4.9, 3. , 1.4, 0.2],\n",
      "       [4.7, 3.2, 1.3, 0.2],\n",
      "       [4.6, 3.1, 1.5, 0.2],\n",
      "       [5. , 3.6, 1.4, 0.2],\n",
      "       [5.4, 3.9, 1.7, 0.4],\n",
      "       [4.6, 3.4, 1.4, 0.3],\n",
      "       [5. , 3.4, 1.5, 0.2],\n",
      "       [4.4, 2.9, 1.4, 0.2],\n",
      "       [4.9, 3.1, 1.5, 0.1],\n",
      "       [5.4, 3.7, 1.5, 0.2],\n",
      "       [4.8, 3.4, 1.6, 0.2],\n",
      "       [4.8, 3. , 1.4, 0.1],\n",
      "       [4.3, 3. , 1.1, 0.1],\n",
      "       [5.8, 4. , 1.2, 0.2],\n",
      "       [5.7, 4.4, 1.5, 0.4],\n",
      "       [5.4, 3.9, 1.3, 0.4],\n",
      "       [5.1, 3.5, 1.4, 0.3],\n",
      "       [5.7, 3.8, 1.7, 0.3],\n",
      "       [5.1, 3.8, 1.5, 0.3],\n",
      "       [5.4, 3.4, 1.7, 0.2],\n",
      "       [5.1, 3.7, 1.5, 0.4],\n",
      "       [4.6, 3.6, 1. , 0.2],\n",
      "       [5.1, 3.3, 1.7, 0.5],\n",
      "       [4.8, 3.4, 1.9, 0.2],\n",
      "       [5. , 3. , 1.6, 0.2],\n",
      "       [5. , 3.4, 1.6, 0.4],\n",
      "       [5.2, 3.5, 1.5, 0.2],\n",
      "       [5.2, 3.4, 1.4, 0.2],\n",
      "       [4.7, 3.2, 1.6, 0.2],\n",
      "       [4.8, 3.1, 1.6, 0.2],\n",
      "       [5.4, 3.4, 1.5, 0.4],\n",
      "       [5.2, 4.1, 1.5, 0.1],\n",
      "       [5.5, 4.2, 1.4, 0.2],\n",
      "       [4.9, 3.1, 1.5, 0.2],\n",
      "       [5. , 3.2, 1.2, 0.2],\n",
      "       [5.5, 3.5, 1.3, 0.2],\n",
      "       [4.9, 3.6, 1.4, 0.1],\n",
      "       [4.4, 3. , 1.3, 0.2],\n",
      "       [5.1, 3.4, 1.5, 0.2],\n",
      "       [5. , 3.5, 1.3, 0.3],\n",
      "       [4.5, 2.3, 1.3, 0.3],\n",
      "       [4.4, 3.2, 1.3, 0.2],\n",
      "       [5. , 3.5, 1.6, 0.6],\n",
      "       [5.1, 3.8, 1.9, 0.4],\n",
      "       [4.8, 3. , 1.4, 0.3],\n",
      "       [5.1, 3.8, 1.6, 0.2],\n",
      "       [4.6, 3.2, 1.4, 0.2],\n",
      "       [5.3, 3.7, 1.5, 0.2],\n",
      "       [5. , 3.3, 1.4, 0.2],\n",
      "       [7. , 3.2, 4.7, 1.4],\n",
      "       [6.4, 3.2, 4.5, 1.5],\n",
      "       [6.9, 3.1, 4.9, 1.5],\n",
      "       [5.5, 2.3, 4. , 1.3],\n",
      "       [6.5, 2.8, 4.6, 1.5],\n",
      "       [5.7, 2.8, 4.5, 1.3],\n",
      "       [6.3, 3.3, 4.7, 1.6],\n",
      "       [4.9, 2.4, 3.3, 1. ],\n",
      "       [6.6, 2.9, 4.6, 1.3],\n",
      "       [5.2, 2.7, 3.9, 1.4],\n",
      "       [5. , 2. , 3.5, 1. ],\n",
      "       [5.9, 3. , 4.2, 1.5],\n",
      "       [6. , 2.2, 4. , 1. ],\n",
      "       [6.1, 2.9, 4.7, 1.4],\n",
      "       [5.6, 2.9, 3.6, 1.3],\n",
      "       [6.7, 3.1, 4.4, 1.4],\n",
      "       [5.6, 3. , 4.5, 1.5],\n",
      "       [5.8, 2.7, 4.1, 1. ],\n",
      "       [6.2, 2.2, 4.5, 1.5],\n",
      "       [5.6, 2.5, 3.9, 1.1],\n",
      "       [5.9, 3.2, 4.8, 1.8],\n",
      "       [6.1, 2.8, 4. , 1.3],\n",
      "       [6.3, 2.5, 4.9, 1.5],\n",
      "       [6.1, 2.8, 4.7, 1.2],\n",
      "       [6.4, 2.9, 4.3, 1.3],\n",
      "       [6.6, 3. , 4.4, 1.4],\n",
      "       [6.8, 2.8, 4.8, 1.4],\n",
      "       [6.7, 3. , 5. , 1.7],\n",
      "       [6. , 2.9, 4.5, 1.5],\n",
      "       [5.7, 2.6, 3.5, 1. ],\n",
      "       [5.5, 2.4, 3.8, 1.1],\n",
      "       [5.5, 2.4, 3.7, 1. ],\n",
      "       [5.8, 2.7, 3.9, 1.2],\n",
      "       [6. , 2.7, 5.1, 1.6],\n",
      "       [5.4, 3. , 4.5, 1.5],\n",
      "       [6. , 3.4, 4.5, 1.6],\n",
      "       [6.7, 3.1, 4.7, 1.5],\n",
      "       [6.3, 2.3, 4.4, 1.3],\n",
      "       [5.6, 3. , 4.1, 1.3],\n",
      "       [5.5, 2.5, 4. , 1.3],\n",
      "       [5.5, 2.6, 4.4, 1.2],\n",
      "       [6.1, 3. , 4.6, 1.4],\n",
      "       [5.8, 2.6, 4. , 1.2],\n",
      "       [5. , 2.3, 3.3, 1. ],\n",
      "       [5.6, 2.7, 4.2, 1.3],\n",
      "       [5.7, 3. , 4.2, 1.2],\n",
      "       [5.7, 2.9, 4.2, 1.3],\n",
      "       [6.2, 2.9, 4.3, 1.3],\n",
      "       [5.1, 2.5, 3. , 1.1],\n",
      "       [5.7, 2.8, 4.1, 1.3],\n",
      "       [6.3, 3.3, 6. , 2.5],\n",
      "       [5.8, 2.7, 5.1, 1.9],\n",
      "       [7.1, 3. , 5.9, 2.1],\n",
      "       [6.3, 2.9, 5.6, 1.8],\n",
      "       [6.5, 3. , 5.8, 2.2],\n",
      "       [7.6, 3. , 6.6, 2.1],\n",
      "       [4.9, 2.5, 4.5, 1.7],\n",
      "       [7.3, 2.9, 6.3, 1.8],\n",
      "       [6.7, 2.5, 5.8, 1.8],\n",
      "       [7.2, 3.6, 6.1, 2.5],\n",
      "       [6.5, 3.2, 5.1, 2. ],\n",
      "       [6.4, 2.7, 5.3, 1.9],\n",
      "       [6.8, 3. , 5.5, 2.1],\n",
      "       [5.7, 2.5, 5. , 2. ],\n",
      "       [5.8, 2.8, 5.1, 2.4],\n",
      "       [6.4, 3.2, 5.3, 2.3],\n",
      "       [6.5, 3. , 5.5, 1.8],\n",
      "       [7.7, 3.8, 6.7, 2.2],\n",
      "       [7.7, 2.6, 6.9, 2.3],\n",
      "       [6. , 2.2, 5. , 1.5],\n",
      "       [6.9, 3.2, 5.7, 2.3],\n",
      "       [5.6, 2.8, 4.9, 2. ],\n",
      "       [7.7, 2.8, 6.7, 2. ],\n",
      "       [6.3, 2.7, 4.9, 1.8],\n",
      "       [6.7, 3.3, 5.7, 2.1],\n",
      "       [7.2, 3.2, 6. , 1.8],\n",
      "       [6.2, 2.8, 4.8, 1.8],\n",
      "       [6.1, 3. , 4.9, 1.8],\n",
      "       [6.4, 2.8, 5.6, 2.1],\n",
      "       [7.2, 3. , 5.8, 1.6],\n",
      "       [7.4, 2.8, 6.1, 1.9],\n",
      "       [7.9, 3.8, 6.4, 2. ],\n",
      "       [6.4, 2.8, 5.6, 2.2],\n",
      "       [6.3, 2.8, 5.1, 1.5],\n",
      "       [6.1, 2.6, 5.6, 1.4],\n",
      "       [7.7, 3. , 6.1, 2.3],\n",
      "       [6.3, 3.4, 5.6, 2.4],\n",
      "       [6.4, 3.1, 5.5, 1.8],\n",
      "       [6. , 3. , 4.8, 1.8],\n",
      "       [6.9, 3.1, 5.4, 2.1],\n",
      "       [6.7, 3.1, 5.6, 2.4],\n",
      "       [6.9, 3.1, 5.1, 2.3],\n",
      "       [5.8, 2.7, 5.1, 1.9],\n",
      "       [6.8, 3.2, 5.9, 2.3],\n",
      "       [6.7, 3.3, 5.7, 2.5],\n",
      "       [6.7, 3. , 5.2, 2.3],\n",
      "       [6.3, 2.5, 5. , 1.9],\n",
      "       [6.5, 3. , 5.2, 2. ],\n",
      "       [6.2, 3.4, 5.4, 2.3],\n",
      "       [5.9, 3. , 5.1, 1.8]]), 'target': array([0, 0, 0, 0, 0, 0, 0, 0, 0, 0, 0, 0, 0, 0, 0, 0, 0, 0, 0, 0, 0, 0,\n",
      "       0, 0, 0, 0, 0, 0, 0, 0, 0, 0, 0, 0, 0, 0, 0, 0, 0, 0, 0, 0, 0, 0,\n",
      "       0, 0, 0, 0, 0, 0, 1, 1, 1, 1, 1, 1, 1, 1, 1, 1, 1, 1, 1, 1, 1, 1,\n",
      "       1, 1, 1, 1, 1, 1, 1, 1, 1, 1, 1, 1, 1, 1, 1, 1, 1, 1, 1, 1, 1, 1,\n",
      "       1, 1, 1, 1, 1, 1, 1, 1, 1, 1, 1, 1, 2, 2, 2, 2, 2, 2, 2, 2, 2, 2,\n",
      "       2, 2, 2, 2, 2, 2, 2, 2, 2, 2, 2, 2, 2, 2, 2, 2, 2, 2, 2, 2, 2, 2,\n",
      "       2, 2, 2, 2, 2, 2, 2, 2, 2, 2, 2, 2, 2, 2, 2, 2, 2, 2]), 'frame': None, 'target_names': array(['setosa', 'versicolor', 'virginica'], dtype='<U10'), 'DESCR': '.. _iris_dataset:\\n\\nIris plants dataset\\n--------------------\\n\\n**Data Set Characteristics:**\\n\\n    :Number of Instances: 150 (50 in each of three classes)\\n    :Number of Attributes: 4 numeric, predictive attributes and the class\\n    :Attribute Information:\\n        - sepal length in cm\\n        - sepal width in cm\\n        - petal length in cm\\n        - petal width in cm\\n        - class:\\n                - Iris-Setosa\\n                - Iris-Versicolour\\n                - Iris-Virginica\\n                \\n    :Summary Statistics:\\n\\n    ============== ==== ==== ======= ===== ====================\\n                    Min  Max   Mean    SD   Class Correlation\\n    ============== ==== ==== ======= ===== ====================\\n    sepal length:   4.3  7.9   5.84   0.83    0.7826\\n    sepal width:    2.0  4.4   3.05   0.43   -0.4194\\n    petal length:   1.0  6.9   3.76   1.76    0.9490  (high!)\\n    petal width:    0.1  2.5   1.20   0.76    0.9565  (high!)\\n    ============== ==== ==== ======= ===== ====================\\n\\n    :Missing Attribute Values: None\\n    :Class Distribution: 33.3% for each of 3 classes.\\n    :Creator: R.A. Fisher\\n    :Donor: Michael Marshall (MARSHALL%PLU@io.arc.nasa.gov)\\n    :Date: July, 1988\\n\\nThe famous Iris database, first used by Sir R.A. Fisher. The dataset is taken\\nfrom Fisher\\'s paper. Note that it\\'s the same as in R, but not as in the UCI\\nMachine Learning Repository, which has two wrong data points.\\n\\nThis is perhaps the best known database to be found in the\\npattern recognition literature.  Fisher\\'s paper is a classic in the field and\\nis referenced frequently to this day.  (See Duda & Hart, for example.)  The\\ndata set contains 3 classes of 50 instances each, where each class refers to a\\ntype of iris plant.  One class is linearly separable from the other 2; the\\nlatter are NOT linearly separable from each other.\\n\\n.. topic:: References\\n\\n   - Fisher, R.A. \"The use of multiple measurements in taxonomic problems\"\\n     Annual Eugenics, 7, Part II, 179-188 (1936); also in \"Contributions to\\n     Mathematical Statistics\" (John Wiley, NY, 1950).\\n   - Duda, R.O., & Hart, P.E. (1973) Pattern Classification and Scene Analysis.\\n     (Q327.D83) John Wiley & Sons.  ISBN 0-471-22361-1.  See page 218.\\n   - Dasarathy, B.V. (1980) \"Nosing Around the Neighborhood: A New System\\n     Structure and Classification Rule for Recognition in Partially Exposed\\n     Environments\".  IEEE Transactions on Pattern Analysis and Machine\\n     Intelligence, Vol. PAMI-2, No. 1, 67-71.\\n   - Gates, G.W. (1972) \"The Reduced Nearest Neighbor Rule\".  IEEE Transactions\\n     on Information Theory, May 1972, 431-433.\\n   - See also: 1988 MLC Proceedings, 54-64.  Cheeseman et al\"s AUTOCLASS II\\n     conceptual clustering system finds 3 classes in the data.\\n   - Many, many more ...', 'feature_names': ['sepal length (cm)', 'sepal width (cm)', 'petal length (cm)', 'petal width (cm)'], 'filename': 'C:\\\\Users\\\\nada7\\\\anaconda3\\\\lib\\\\site-packages\\\\sklearn\\\\datasets\\\\data\\\\iris.csv'}\n"
     ]
    }
   ],
   "source": [
    "#Getting the data ready\n",
    "data = load_iris()\n",
    "df = data.data\n",
    "#Selecting certain features based on which clustering is done\n",
    "df = df[:,1:3]\n"
   ]
  },
  {
   "cell_type": "code",
   "execution_count": 8,
   "id": "0347b90f",
   "metadata": {
    "collapsed": true
   },
   "outputs": [
    {
     "name": "stdout",
     "output_type": "stream",
     "text": [
      "[1 1 1 1 1 1 1 1 1 1 1 1 1 1 1 1 1 1 1 1 1 1 1 1 1 1 1 1 1 1 1 1 1 1 1 1 1\n",
      " 1 1 1 1 1 1 1 1 1 1 1 1 1 0 0 0 0 0 0 0 0 0 0 0 0 0 0 0 0 0 0 0 0 0 0 0 0\n",
      " 0 0 0 0 0 0 0 0 0 0 0 0 0 0 0 0 0 0 0 0 0 0 0 0 0 0 2 0 2 2 2 2 0 2 2 2 0\n",
      " 0 2 0 0 0 2 2 2 0 2 0 2 0 2 2 0 0 2 2 2 2 2 0 2 2 2 2 0 2 2 0 0 2 2 0 0 0\n",
      " 2 0]\n"
     ]
    }
   ],
   "source": [
    "#Creating the model\n",
    "agg_clustering = AgglomerativeClustering(n_clusters = 3, affinity = 'euclidean', linkage = 'ward')\n",
    "#predicting the labels\n",
    "labels = agg_clustering.fit_predict(df)\n",
    "print(labels)"
   ]
  },
  {
   "cell_type": "code",
   "execution_count": 9,
   "id": "451cac45",
   "metadata": {},
   "outputs": [],
   "source": [
    "#Importing libraries\n",
    "from sklearn.datasets import load_iris\n",
    "from sklearn.cluster import AgglomerativeClustering\n",
    "import numpy as np\n",
    "import matplotlib.pyplot as plt\n",
    "from scipy.cluster.hierarchy import dendrogram , linkage\n"
   ]
  },
  {
   "cell_type": "code",
   "execution_count": 10,
   "id": "0448244a",
   "metadata": {},
   "outputs": [],
   "source": [
    "#Getting the data ready\n",
    "data = load_iris()\n",
    "df = data.data\n",
    "#Selecting certain features based on which clustering is done\n",
    "df = df[:,1:3]\n"
   ]
  },
  {
   "cell_type": "code",
   "execution_count": 12,
   "id": "9f3672b4",
   "metadata": {
    "collapsed": true
   },
   "outputs": [
    {
     "data": {
      "text/plain": [
       "array([[0.00000000e+00, 1.70000000e+01, 0.00000000e+00, 2.00000000e+00],\n",
       "       [1.00000000e+00, 1.20000000e+01, 0.00000000e+00, 2.00000000e+00],\n",
       "       [2.00000000e+00, 4.20000000e+01, 0.00000000e+00, 2.00000000e+00],\n",
       "       [3.00000000e+00, 9.00000000e+00, 0.00000000e+00, 2.00000000e+00],\n",
       "       [4.00000000e+00, 3.70000000e+01, 0.00000000e+00, 2.00000000e+00],\n",
       "       [6.00000000e+00, 2.80000000e+01, 0.00000000e+00, 2.00000000e+00],\n",
       "       [7.00000000e+00, 3.10000000e+01, 0.00000000e+00, 2.00000000e+00],\n",
       "       [4.50000000e+01, 1.51000000e+02, 0.00000000e+00, 3.00000000e+00],\n",
       "       [3.40000000e+01, 1.53000000e+02, 0.00000000e+00, 3.00000000e+00],\n",
       "       [1.00000000e+01, 2.10000000e+01, 0.00000000e+00, 2.00000000e+00],\n",
       "       [1.10000000e+01, 2.60000000e+01, 0.00000000e+00, 2.00000000e+00],\n",
       "       [3.60000000e+01, 4.00000000e+01, 0.00000000e+00, 2.00000000e+00],\n",
       "       [3.90000000e+01, 1.56000000e+02, 0.00000000e+00, 3.00000000e+00],\n",
       "       [4.80000000e+01, 1.59000000e+02, 0.00000000e+00, 3.00000000e+00],\n",
       "       [5.90000000e+01, 8.20000000e+01, 0.00000000e+00, 2.00000000e+00],\n",
       "       [7.40000000e+01, 9.70000000e+01, 0.00000000e+00, 2.00000000e+00],\n",
       "       [6.10000000e+01, 9.50000000e+01, 0.00000000e+00, 2.00000000e+00],\n",
       "       [6.60000000e+01, 8.40000000e+01, 0.00000000e+00, 2.00000000e+00],\n",
       "       [7.60000000e+01, 1.26000000e+02, 0.00000000e+00, 2.00000000e+00],\n",
       "       [1.13000000e+02, 1.46000000e+02, 0.00000000e+00, 2.00000000e+00],\n",
       "       [8.30000000e+01, 1.01000000e+02, 0.00000000e+00, 2.00000000e+00],\n",
       "       [1.42000000e+02, 1.70000000e+02, 0.00000000e+00, 3.00000000e+00],\n",
       "       [1.14000000e+02, 1.33000000e+02, 0.00000000e+00, 2.00000000e+00],\n",
       "       [1.45000000e+02, 1.47000000e+02, 0.00000000e+00, 2.00000000e+00],\n",
       "       [1.12000000e+02, 1.16000000e+02, 0.00000000e+00, 2.00000000e+00],\n",
       "       [1.24000000e+02, 1.44000000e+02, 0.00000000e+00, 2.00000000e+00],\n",
       "       [1.28000000e+02, 1.32000000e+02, 0.00000000e+00, 2.00000000e+00],\n",
       "       [1.04000000e+02, 1.29000000e+02, 0.00000000e+00, 2.00000000e+00],\n",
       "       [4.70000000e+01, 4.90000000e+01, 1.00000000e-01, 2.00000000e+00],\n",
       "       [1.90000000e+01, 1.63000000e+02, 1.00000000e-01, 4.00000000e+00],\n",
       "       [8.00000000e+01, 8.10000000e+01, 1.00000000e-01, 2.00000000e+00],\n",
       "       [7.10000000e+01, 9.90000000e+01, 1.00000000e-01, 2.00000000e+00],\n",
       "       [5.30000000e+01, 6.20000000e+01, 1.00000000e-01, 2.00000000e+00],\n",
       "       [9.60000000e+01, 1.65000000e+02, 1.00000000e-01, 3.00000000e+00],\n",
       "       [7.50000000e+01, 1.67000000e+02, 1.00000000e-01, 3.00000000e+00],\n",
       "       [5.80000000e+01, 7.80000000e+01, 1.00000000e-01, 2.00000000e+00],\n",
       "       [5.40000000e+01, 5.50000000e+01, 1.00000000e-01, 2.00000000e+00],\n",
       "       [7.30000000e+01, 1.68000000e+02, 1.00000000e-01, 3.00000000e+00],\n",
       "       [1.21000000e+02, 1.23000000e+02, 1.00000000e-01, 2.00000000e+00],\n",
       "       [5.00000000e+01, 5.60000000e+01, 1.00000000e-01, 2.00000000e+00],\n",
       "       [7.70000000e+01, 1.27000000e+02, 1.00000000e-01, 2.00000000e+00],\n",
       "       [7.20000000e+01, 1.69000000e+02, 1.00000000e-01, 3.00000000e+00],\n",
       "       [1.71000000e+02, 1.72000000e+02, 1.00000000e-01, 5.00000000e+00],\n",
       "       [1.37000000e+02, 1.39000000e+02, 1.00000000e-01, 2.00000000e+00],\n",
       "       [1.20000000e+02, 1.75000000e+02, 1.00000000e-01, 3.00000000e+00],\n",
       "       [1.25000000e+02, 1.43000000e+02, 1.00000000e-01, 2.00000000e+00],\n",
       "       [1.80000000e+01, 4.60000000e+01, 1.00000000e-01, 2.00000000e+00],\n",
       "       [3.80000000e+01, 1.57000000e+02, 1.00000000e-01, 4.00000000e+00],\n",
       "       [1.50000000e+02, 1.61000000e+02, 1.00000000e-01, 4.00000000e+00],\n",
       "       [2.00000000e+01, 1.60000000e+02, 1.00000000e-01, 3.00000000e+00],\n",
       "       [3.50000000e+01, 1.52000000e+02, 1.00000000e-01, 3.00000000e+00],\n",
       "       [1.55000000e+02, 1.62000000e+02, 1.00000000e-01, 5.00000000e+00],\n",
       "       [3.00000000e+01, 1.58000000e+02, 1.00000000e-01, 4.00000000e+00],\n",
       "       [2.70000000e+01, 4.30000000e+01, 1.00000000e-01, 2.00000000e+00],\n",
       "       [5.70000000e+01, 9.30000000e+01, 1.00000000e-01, 2.00000000e+00],\n",
       "       [6.90000000e+01, 8.90000000e+01, 1.00000000e-01, 2.00000000e+00],\n",
       "       [1.41000000e+02, 1.49000000e+02, 1.00000000e-01, 2.00000000e+00],\n",
       "       [1.03000000e+02, 1.76000000e+02, 1.00000000e-01, 3.00000000e+00],\n",
       "       [6.70000000e+01, 9.40000000e+01, 1.00000000e-01, 2.00000000e+00],\n",
       "       [8.80000000e+01, 1.66000000e+02, 1.00000000e-01, 3.00000000e+00],\n",
       "       [1.02000000e+02, 1.77000000e+02, 1.00000000e-01, 3.00000000e+00],\n",
       "       [8.00000000e+00, 1.97000000e+02, 1.10355339e-01, 5.00000000e+00],\n",
       "       [7.00000000e+01, 1.89000000e+02, 1.20710678e-01, 3.00000000e+00],\n",
       "       [1.00000000e+02, 1.95000000e+02, 1.20710678e-01, 3.00000000e+00],\n",
       "       [9.10000000e+01, 1.85000000e+02, 1.20710678e-01, 3.00000000e+00],\n",
       "       [5.20000000e+01, 1.90000000e+02, 1.20710678e-01, 3.00000000e+00],\n",
       "       [1.74000000e+02, 1.93000000e+02, 1.20710678e-01, 4.00000000e+00],\n",
       "       [5.00000000e+00, 1.96000000e+02, 1.20710678e-01, 3.00000000e+00],\n",
       "       [1.54000000e+02, 1.98000000e+02, 1.20710678e-01, 6.00000000e+00],\n",
       "       [9.20000000e+01, 2.05000000e+02, 1.20710678e-01, 3.00000000e+00],\n",
       "       [1.73000000e+02, 2.06000000e+02, 1.20710678e-01, 4.00000000e+00],\n",
       "       [6.50000000e+01, 1.84000000e+02, 1.27614237e-01, 4.00000000e+00],\n",
       "       [6.30000000e+01, 1.87000000e+02, 1.27614237e-01, 4.00000000e+00],\n",
       "       [2.30000000e+01, 1.99000000e+02, 1.27614237e-01, 4.00000000e+00],\n",
       "       [2.50000000e+01, 2.02000000e+02, 1.31066017e-01, 5.00000000e+00],\n",
       "       [6.80000000e+01, 8.70000000e+01, 1.41421356e-01, 2.00000000e+00],\n",
       "       [8.60000000e+01, 1.38000000e+02, 1.41421356e-01, 2.00000000e+00],\n",
       "       [9.00000000e+01, 1.06000000e+02, 1.41421356e-01, 2.00000000e+00],\n",
       "       [1.40000000e+01, 1.60000000e+01, 1.41421356e-01, 2.00000000e+00],\n",
       "       [3.20000000e+01, 3.30000000e+01, 1.41421356e-01, 2.00000000e+00],\n",
       "       [2.90000000e+01, 2.24000000e+02, 1.44852814e-01, 6.00000000e+00],\n",
       "       [2.01000000e+02, 2.03000000e+02, 1.45432038e-01, 7.00000000e+00],\n",
       "       [1.40000000e+02, 2.16000000e+02, 1.45710678e-01, 5.00000000e+00],\n",
       "       [1.83000000e+02, 2.09000000e+02, 1.50480042e-01, 6.00000000e+00],\n",
       "       [1.78000000e+02, 2.00000000e+02, 1.51074918e-01, 5.00000000e+00],\n",
       "       [1.86000000e+02, 2.14000000e+02, 1.51074918e-01, 5.00000000e+00],\n",
       "       [1.81000000e+02, 2.08000000e+02, 1.51612378e-01, 4.00000000e+00],\n",
       "       [1.36000000e+02, 1.94000000e+02, 1.68816503e-01, 4.00000000e+00],\n",
       "       [1.88000000e+02, 2.22000000e+02, 1.76612378e-01, 6.00000000e+00],\n",
       "       [2.18000000e+02, 2.31000000e+02, 1.81608368e-01, 1.30000000e+01],\n",
       "       [1.10000000e+02, 2.20000000e+02, 1.86803399e-01, 5.00000000e+00],\n",
       "       [1.64000000e+02, 2.19000000e+02, 1.88342718e-01, 5.00000000e+00],\n",
       "       [5.10000000e+01, 2.21000000e+02, 1.91257038e-01, 5.00000000e+00],\n",
       "       [2.12000000e+02, 2.26000000e+02, 1.96875987e-01, 5.00000000e+00],\n",
       "       [1.30000000e+02, 1.35000000e+02, 2.00000000e-01, 2.00000000e+00],\n",
       "       [1.79000000e+02, 2.17000000e+02, 2.05601616e-01, 7.00000000e+00],\n",
       "       [1.11000000e+02, 1.92000000e+02, 2.09442719e-01, 6.00000000e+00],\n",
       "       [2.11000000e+02, 2.30000000e+02, 2.19252302e-01, 1.10000000e+01],\n",
       "       [1.15000000e+02, 1.48000000e+02, 2.23606798e-01, 2.00000000e+00],\n",
       "       [1.08000000e+02, 1.34000000e+02, 2.23606798e-01, 2.00000000e+00],\n",
       "       [1.07000000e+02, 2.44000000e+02, 2.23606798e-01, 3.00000000e+00],\n",
       "       [1.05000000e+02, 1.22000000e+02, 2.23606798e-01, 2.00000000e+00],\n",
       "       [2.35000000e+02, 2.42000000e+02, 2.26420732e-01, 1.00000000e+01],\n",
       "       [2.15000000e+02, 2.40000000e+02, 2.30076453e-01, 8.00000000e+00],\n",
       "       [2.36000000e+02, 2.41000000e+02, 2.48077463e-01, 9.00000000e+00],\n",
       "       [2.23000000e+02, 2.39000000e+02, 2.53664575e-01, 1.70000000e+01],\n",
       "       [2.07000000e+02, 2.32000000e+02, 2.55819013e-01, 8.00000000e+00],\n",
       "       [1.50000000e+01, 2.29000000e+02, 2.61803399e-01, 3.00000000e+00],\n",
       "       [2.34000000e+02, 2.47000000e+02, 2.67610429e-01, 1.60000000e+01],\n",
       "       [2.10000000e+02, 2.13000000e+02, 2.74871538e-01, 6.00000000e+00],\n",
       "       [1.80000000e+02, 1.82000000e+02, 2.95808101e-01, 4.00000000e+00],\n",
       "       [1.91000000e+02, 2.46000000e+02, 2.96917450e-01, 9.00000000e+00],\n",
       "       [1.17000000e+02, 1.31000000e+02, 3.00000000e-01, 2.00000000e+00],\n",
       "       [2.25000000e+02, 2.27000000e+02, 3.08979340e-01, 4.00000000e+00],\n",
       "       [6.40000000e+01, 7.90000000e+01, 3.16227766e-01, 2.00000000e+00],\n",
       "       [2.33000000e+02, 2.52000000e+02, 3.22900972e-01, 1.60000000e+01],\n",
       "       [2.37000000e+02, 2.59000000e+02, 3.26103375e-01, 1.00000000e+01],\n",
       "       [4.40000000e+01, 2.45000000e+02, 3.37219784e-01, 8.00000000e+00],\n",
       "       [9.80000000e+01, 2.04000000e+02, 3.38391447e-01, 3.00000000e+00],\n",
       "       [8.50000000e+01, 2.43000000e+02, 3.45511953e-01, 6.00000000e+00],\n",
       "       [2.38000000e+02, 2.61000000e+02, 3.48186712e-01, 1.50000000e+01],\n",
       "       [1.30000000e+01, 2.58000000e+02, 3.60980582e-01, 1.70000000e+01],\n",
       "       [2.28000000e+02, 2.57000000e+02, 3.72776240e-01, 5.00000000e+00],\n",
       "       [2.55000000e+02, 2.67000000e+02, 3.85730712e-01, 2.50000000e+01],\n",
       "       [1.18000000e+02, 2.51000000e+02, 3.91421356e-01, 3.00000000e+00],\n",
       "       [2.48000000e+02, 2.56000000e+02, 3.92252311e-01, 1.00000000e+01],\n",
       "       [2.54000000e+02, 2.60000000e+02, 4.06457361e-01, 1.30000000e+01],\n",
       "       [2.53000000e+02, 2.70000000e+02, 4.08572147e-01, 2.30000000e+01],\n",
       "       [2.66000000e+02, 2.75000000e+02, 4.21607301e-01, 2.00000000e+01],\n",
       "       [2.65000000e+02, 2.69000000e+02, 4.34630770e-01, 2.20000000e+01],\n",
       "       [2.40000000e+01, 2.73000000e+02, 4.48678000e-01, 2.60000000e+01],\n",
       "       [1.09000000e+02, 2.62000000e+02, 4.96505330e-01, 3.00000000e+00],\n",
       "       [6.00000000e+01, 2.68000000e+02, 5.04958501e-01, 4.00000000e+00],\n",
       "       [2.71000000e+02, 2.80000000e+02, 5.17189254e-01, 4.30000000e+01],\n",
       "       [2.64000000e+02, 2.76000000e+02, 5.21374185e-01, 1.50000000e+01],\n",
       "       [2.50000000e+02, 2.78000000e+02, 5.94419488e-01, 2.30000000e+01],\n",
       "       [2.20000000e+01, 2.83000000e+02, 6.02498647e-01, 4.40000000e+01],\n",
       "       [1.19000000e+02, 2.63000000e+02, 6.03120424e-01, 5.00000000e+00],\n",
       "       [2.49000000e+02, 2.85000000e+02, 6.04060973e-01, 2.50000000e+01],\n",
       "       [2.77000000e+02, 2.79000000e+02, 6.16881855e-01, 4.50000000e+01],\n",
       "       [2.87000000e+02, 2.89000000e+02, 7.22823267e-01, 5.00000000e+01],\n",
       "       [2.82000000e+02, 2.84000000e+02, 7.65735996e-01, 1.90000000e+01],\n",
       "       [2.72000000e+02, 2.86000000e+02, 7.92888800e-01, 4.90000000e+01],\n",
       "       [2.81000000e+02, 2.88000000e+02, 1.01159891e+00, 2.80000000e+01],\n",
       "       [2.74000000e+02, 2.93000000e+02, 1.06941967e+00, 3.10000000e+01],\n",
       "       [2.90000000e+02, 2.91000000e+02, 1.07407636e+00, 6.90000000e+01],\n",
       "       [4.10000000e+01, 2.92000000e+02, 1.17528264e+00, 5.00000000e+01],\n",
       "       [2.94000000e+02, 2.95000000e+02, 1.51028674e+00, 1.00000000e+02],\n",
       "       [2.96000000e+02, 2.97000000e+02, 3.53523621e+00, 1.50000000e+02]])"
      ]
     },
     "execution_count": 12,
     "metadata": {},
     "output_type": "execute_result"
    }
   ],
   "source": [
    "\n"
   ]
  },
  {
   "cell_type": "code",
   "execution_count": 18,
   "id": "e5d1a0f1",
   "metadata": {},
   "outputs": [
    {
     "data": {
      "image/png": "[encoded data removed]",
      "text/plain": [
       "<Figure size 1008x432 with 1 Axes>"
      ]
     },
     "metadata": {
      "needs_background": "light"
     },
     "output_type": "display_data"
    }
   ],
   "source": [
    "#Linkage Matrix\n",
    "Z = linkage(df, method = 'average')\n",
    "plt.figure(figsize=(14,6))\n",
    "#plotting dendrogram\n",
    "dendro = dendrogram(Z)\n",
    "plt.title('Dendrogram')\n",
    "plt.ylabel('Euclidean distance')\n",
    "plt.show()"
   ]
  },
  {
   "cell_type": "code",
   "execution_count": 16,
   "id": "9158fd48",
   "metadata": {
    "collapsed": true
   },
   "outputs": [
    {
     "data": {
      "image/png": "[encoded data removed]",
      "text/plain": [
       "<Figure size 432x288 with 1 Axes>"
      ]
     },
     "metadata": {
      "needs_background": "light"
     },
     "output_type": "display_data"
    }
   ],
   "source": []
  },
  {
   "cell_type": "code",
   "execution_count": 19,
   "id": "3c2e5256",
   "metadata": {},
   "outputs": [
    {
     "name": "stdout",
     "output_type": "stream",
     "text": [
      "  Student  R-Programming  Python-Programming  Data Mining  Machine Learning\n",
      "0      S1             85                  89           76                55\n",
      "1      S2             67                  88           64                80\n",
      "2      S3             77                  76           71                69\n",
      "3      S4             57                  63           57                62\n",
      "4      S5             44                  60           63                61\n",
      "5      S6             90                  84           78                83\n",
      "6      S7             68                  70           80                66\n",
      "7      S8             62                  50           61                58\n",
      "8      S9             81                  75           88                82\n",
      "9     S10             92                  80           71                73\n"
     ]
    }
   ],
   "source": [
    "import pandas as pd\n",
    "import numpy as np\n",
    "from matplotlib import pyplot as plt\n",
    "from scipy.cluster.hierarchy import dendrogram , linkage\n",
    "df = pd.read_csv('https://raw.githubusercontent.com/lborohfang/COP528AML_Files/main/student.csv')\n",
    "print(df.head(10))\n",
    "student = np.asarray(df.iloc[:,1:])"
   ]
  },
  {
   "cell_type": "code",
   "execution_count": 21,
   "id": "39cb1cb0",
   "metadata": {
    "collapsed": true
   },
   "outputs": [
    {
     "name": "stdout",
     "output_type": "stream",
     "text": [
      "[[ 0.         33.07567082 21.30727575 43.24349662 52.22068556 28.94822965\n",
      "  28.05352028 47.79121258 32.93933818 21.88606863]\n",
      " [33.07567082  0.         20.34698995 33.13608305 40.92676386 27.38612788\n",
      "  27.87471973 44.29446918 30.7408523  28.05352028]\n",
      " [21.30727575 20.34698995  0.         28.53068524 38.37968212 21.86321111\n",
      "  14.38749457 33.49626845 21.79449472 16.03121954]\n",
      " [43.24349662 33.13608305 28.53068524  0.         14.6628783  49.11211663\n",
      "  26.73948391 15.03329638 45.61797891 42.79018579]\n",
      " [52.22068556 40.92676386 38.37968212 14.6628783   0.         58.31809325\n",
      "  31.46426545 20.90454496 51.57518783 53.96295025]\n",
      " [28.94822965 27.38612788 21.86321111 49.11211663 58.31809325  0.\n",
      "  31.19294792 53.42284156 16.21727474 13.        ]\n",
      " [28.05352028 27.87471973 14.38749457 26.73948391 31.46426545 31.19294792\n",
      "   0.         29.3428015  22.6715681  28.39013913]\n",
      " [47.79121258 44.29446918 33.49626845 15.03329638 20.90454496 53.42284156\n",
      "  29.3428015   0.         47.86439178 46.09772229]\n",
      " [32.93933818 30.7408523  21.79449472 45.61797891 51.57518783 16.21727474\n",
      "  22.6715681  47.86439178  0.         22.71563338]\n",
      " [21.88606863 28.05352028 16.03121954 42.79018579 53.96295025 13.\n",
      "  28.39013913 46.09772229 22.71563338  0.        ]]\n"
     ]
    }
   ],
   "source": [
    "from sklearn.neighbors import DistanceMetric\n",
    "# If your version of sklearn cannot import from the above statement DistanceMetric\n",
    "# please try: from sklearn.neighbors import DistanceMetric\n",
    "dist = DistanceMetric.get_metric('euclidean')\n",
    "print(dist.pairwise(student))"
   ]
  },
  {
   "cell_type": "code",
   "execution_count": 22,
   "id": "e2c3762c",
   "metadata": {},
   "outputs": [],
   "source": [
    "#Creating the model\n",
    "agg_clustering = AgglomerativeClustering(n_clusters = 3, affinity = 'euclidean', linkage = 'ward')\n",
    "#predicting the labels\n",
    "labels = agg_clustering.fit_predict(student)"
   ]
  },
  {
   "cell_type": "code",
   "execution_count": 23,
   "id": "972dd75b",
   "metadata": {},
   "outputs": [
    {
     "data": {
      "image/png": "[encoded data removed]",
      "text/plain": [
       "<Figure size 720x432 with 1 Axes>"
      ]
     },
     "metadata": {
      "needs_background": "light"
     },
     "output_type": "display_data"
    }
   ],
   "source": [
    "Z = linkage(student, method = 'average')\n",
    "plt.figure(figsize=(10,6))\n",
    "#plotting dendrogram\n",
    "dendro = dendrogram(Z)\n",
    "plt.title('Dendrogram')\n",
    "plt.ylabel('Euclidean distance')\n",
    "plt.show()\n"
   ]
  },
  {
   "cell_type": "code",
   "execution_count": null,
   "id": "772630b4",
   "metadata": {},
   "outputs": [],
   "source": []
  }
 ],
 "metadata": {
  "kernelspec": {
   "display_name": "Python 3 (ipykernel)",
   "language": "python",
   "name": "python3"
  },
  "language_info": {
   "codemirror_mode": {
    "name": "ipython",
    "version": 3
   },
   "file_extension": ".py",
   "mimetype": "text/x-python",
   "name": "python",
   "nbconvert_exporter": "python",
   "pygments_lexer": "ipython3",
   "version": "3.9.7"
  }
 },
 "nbformat": 4,
 "nbformat_minor": 5
}

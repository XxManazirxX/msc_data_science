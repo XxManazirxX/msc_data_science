{
 "cells": [
  {
   "cell_type": "code",
   "execution_count": 15,
   "id": "9c401553",
   "metadata": {},
   "outputs": [
    {
     "name": "stdout",
     "output_type": "stream",
     "text": [
      "[[0.         5.19615242]\n",
      " [5.19615242 0.        ]]\n"
     ]
    }
   ],
   "source": [
    "from sklearn.neighbors import DistanceMetric\n",
    "dist = DistanceMetric.get_metric('euclidean')\n",
    "X= [[0,1,2],[3,4,5]]\n",
    "print(dist.pairwise(X))\n"
   ]
  },
  {
   "cell_type": "code",
   "execution_count": 19,
   "id": "d31457ee",
   "metadata": {},
   "outputs": [
    {
     "name": "stdout",
     "output_type": "stream",
     "text": [
      "[[1, 2, 2], [-1, 7, 5]]\n"
     ]
    },
    {
     "data": {
      "text/plain": [
       "array([[ 0.33333333,  2.33333333],\n",
       "       [ 2.33333333, 17.33333333]])"
      ]
     },
     "execution_count": 19,
     "metadata": {},
     "output_type": "execute_result"
    }
   ],
   "source": [
    "\n",
    "import numpy as np\n",
    "X = [[1, 2, 2], [ -1,7, 5]]\n",
    "print(X)\n",
    "V=np.cov(X)\n",
    "V"
   ]
  },
  {
   "cell_type": "code",
   "execution_count": 20,
   "id": "83e769e7",
   "metadata": {},
   "outputs": [
    {
     "name": "stdout",
     "output_type": "stream",
     "text": [
      "[[0.         3.60555128]\n",
      " [3.60555128 0.        ]]\n"
     ]
    }
   ],
   "source": [
    "dist = DistanceMetric.get_metric('mahalanobis', V=np.cov(X))\n",
    "print(dist.pairwise(V))"
   ]
  },
  {
   "cell_type": "code",
   "execution_count": 45,
   "id": "0c186bc5",
   "metadata": {
    "collapsed": true
   },
   "outputs": [
    {
     "name": "stdout",
     "output_type": "stream",
     "text": [
      "[0.11072668 0.05068012 0.17055523 0.13204422 0.15391371 0.19878799\n",
      " 0.18117906 0.18523444 0.13359898 0.13561183]\n",
      "[[0.66666667 1.         0.58264463 ... 0.28208745 0.56221737 0.43939394]\n",
      " [0.48333333 0.         0.14876033 ... 0.14104372 0.22244301 0.16666667]\n",
      " [0.88333333 1.         0.51652893 ... 0.28208745 0.49658437 0.40909091]\n",
      " ...\n",
      " [0.68333333 1.         0.28512397 ... 0.24964739 0.30504048 0.56060606]\n",
      " [0.28333333 0.         0.49586777 ... 0.39351199 0.65702021 0.40909091]\n",
      " [0.28333333 0.         0.0661157  ... 0.14104372 0.46930778 0.51515152]]\n"
     ]
    }
   ],
   "source": [
    "import numpy as np\n",
    "from sklearn.datasets import load_diabetes\n",
    "X_diabetes, y_diabetes = load_diabetes(return_X_y=True)\n",
    "from sklearn.preprocessing import MinMaxScaler\n",
    "scaler = MinMaxScaler()\n",
    "scaler.fit(X_diabetes)\n",
    "print(scaler.data_max_)\n",
    "print(scaler.transform(X_diabetes))"
   ]
  },
  {
   "cell_type": "code",
   "execution_count": 61,
   "id": "74cf34d6",
   "metadata": {},
   "outputs": [
    {
     "name": "stdout",
     "output_type": "stream",
     "text": [
      "[[ 1.53598255e-03 -7.25552524e-04  1.48716462e-03 ...  6.35182232e-04\n",
      "  -3.14142357e-05 -2.50356714e-03]\n",
      " [-7.25552524e-04  2.03794840e-03 -2.89524546e-04 ... -1.92692294e-04\n",
      "  -4.75328228e-04  2.36049599e-03]\n",
      " [ 1.48716462e-03 -2.89524546e-04  1.85540979e-03 ...  8.76732397e-04\n",
      "  -4.45902447e-04 -2.14543937e-03]\n",
      " ...\n",
      " [ 6.35182232e-04 -1.92692294e-04  8.76732397e-04 ...  1.06321888e-03\n",
      "  -8.50154998e-04 -1.28636380e-03]\n",
      " [-3.14142357e-05 -4.75328228e-04 -4.45902447e-04 ... -8.50154998e-04\n",
      "   1.14114351e-03 -3.77758669e-04]\n",
      " [-2.50356714e-03  2.36049599e-03 -2.14543937e-03 ... -1.28636380e-03\n",
      "  -3.77758669e-04  6.17853798e-03]]\n"
     ]
    }
   ],
   "source": [
    "V =np.cov(X_diabetes)\n",
    " \n",
    "\n",
    "print(V)"
   ]
  },
  {
   "cell_type": "code",
   "execution_count": 63,
   "id": "7d648f1f",
   "metadata": {},
   "outputs": [
    {
     "name": "stdout",
     "output_type": "stream",
     "text": [
      "[[0.                nan        nan ... 0.28467485 0.4050526  1.47533454]\n",
      " [       nan 0.         0.52998314 ... 0.26844771        nan 0.61861113]\n",
      " [       nan 0.52998314 0.         ... 0.29397911 0.47851118 1.2306047 ]\n",
      " ...\n",
      " [0.28467485 0.26844771 0.29397911 ... 0.         0.21292985 0.91298776]\n",
      " [0.4050526         nan 0.47851118 ... 0.21292985 0.         0.38597393]\n",
      " [1.47533454 0.61861113 1.2306047  ... 0.91298776 0.38597393 0.        ]]\n"
     ]
    }
   ],
   "source": [
    "\n",
    "dist = DistanceMetric.get_metric('mahalanobis', V=np.cov(X_diabetes))\n",
    "print(dist.pairwise(vX))"
   ]
  }
 ],
 "metadata": {
  "kernelspec": {
   "display_name": "Python 3 (ipykernel)",
   "language": "python",
   "name": "python3"
  },
  "language_info": {
   "codemirror_mode": {
    "name": "ipython",
    "version": 3
   },
   "file_extension": ".py",
   "mimetype": "text/x-python",
   "name": "python",
   "nbconvert_exporter": "python",
   "pygments_lexer": "ipython3",
   "version": "3.9.7"
  }
 },
 "nbformat": 4,
 "nbformat_minor": 5
}

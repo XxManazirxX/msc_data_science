{
 "cells": [
  {
   "cell_type": "code",
   "execution_count": 62,
   "id": "c1112a24",
   "metadata": {},
   "outputs": [
    {
     "name": "stdout",
     "output_type": "stream",
     "text": [
      "    Area  Perimeter  Compactness  Length of kernel  Width of Kernel  \\\n",
      "0  15.26      14.84       0.8710             5.763            3.312   \n",
      "1  14.88      14.57       0.8811             5.554            3.333   \n",
      "2  14.29      14.09       0.9050             5.291            3.337   \n",
      "3  13.84      13.94       0.8955             5.324            3.379   \n",
      "4  16.14      14.99       0.9034             5.658            3.562   \n",
      "5  14.38      14.21       0.8951             5.386            3.312   \n",
      "6  14.69      14.49       0.8799             5.563            3.259   \n",
      "7  14.11      14.10       0.8911             5.420            3.302   \n",
      "8  16.63      15.46       0.8747             6.053            3.465   \n",
      "9  16.44      15.25       0.8880             5.884            3.505   \n",
      "\n",
      "   Asymmetry Coef.  Length of groove  Class  \n",
      "0            2.221             5.220      1  \n",
      "1            1.018             4.956      1  \n",
      "2            2.699             4.825      1  \n",
      "3            2.259             4.805      1  \n",
      "4            1.355             5.175      1  \n",
      "5            2.462             4.956      1  \n",
      "6            3.586             5.219      1  \n",
      "7            2.700             5.000      1  \n",
      "8            2.040             5.877      1  \n",
      "9            1.969             5.533      1  \n"
     ]
    },
    {
     "data": {
      "text/plain": [
       "array([1, 1, 1, 1, 1, 1, 1, 1, 1, 1, 1, 1, 1, 1, 1, 1, 1, 1, 1, 1, 1, 1,\n",
       "       1, 1, 1, 1, 1, 1, 1, 1, 1, 1, 1, 1, 1, 1, 1, 1, 1, 1, 1, 1, 1, 1,\n",
       "       1, 1, 1, 1, 1, 1, 1, 1, 1, 1, 1, 1, 1, 1, 1, 1, 1, 1, 1, 1, 1, 1,\n",
       "       1, 1, 1, 1, 2, 2, 2, 2, 2, 2, 2, 2, 2, 2, 2, 2, 2, 2, 2, 2, 2, 2,\n",
       "       2, 2, 2, 2, 2, 2, 2, 2, 2, 2, 2, 2, 2, 2, 2, 2, 2, 2, 2, 2, 2, 2,\n",
       "       2, 2, 2, 2, 2, 2, 2, 2, 2, 2, 2, 2, 2, 2, 2, 2, 2, 2, 2, 2, 2, 2,\n",
       "       2, 2, 2, 2, 2, 2, 2, 2, 3, 3, 3, 3, 3, 3, 3, 3, 3, 3, 3, 3, 3, 3,\n",
       "       3, 3, 3, 3, 3, 3, 3, 3, 3, 3, 3, 3, 3, 3, 3, 3, 3, 3, 3, 3, 3, 3,\n",
       "       3, 3, 3, 3, 3, 3, 3, 3, 3, 3, 3, 3, 3, 3, 3, 3, 3, 3, 3, 3, 3, 3,\n",
       "       3, 3, 3, 3, 3, 3, 3, 3, 3, 3, 3, 3], dtype=int64)"
      ]
     },
     "execution_count": 62,
     "metadata": {},
     "output_type": "execute_result"
    }
   ],
   "source": [
    "# Use the iris dataset as an example\n",
    "import numpy as np # for numpy\n",
    "# Now import a multiclassification model from a neural network for training multiclassification data\n",
    "from sklearn.neural_network import MLPClassifier\n",
    "# Now import the libraries in sklearn that are used to evaluate the prediction metrics, such as confusion matrices\n",
    "#nd classification reports\n",
    "from sklearn.metrics import confusion_matrix,classification_report\n",
    "from sklearn.datasets import load_iris\n",
    "from sklearn.model_selection import train_test_split\n",
    "\n",
    "\n",
    "import pandas as pd\n",
    "import numpy as np\n",
    "from sklearn.model_selection import train_test_split\n",
    "df = pd.read_csv(\"https://raw.githubusercontent.com/lborohfang/COP528AML_Files/main/seeds_dataset.csv\")\n",
    "print(df.head(10))\n",
    "seeds_data = np.asarray(df.iloc[:,:-1])\n",
    "seeds_label= np.asarray(df.iloc[:,-1])\n",
    "X=seeds_data[:, :2]\n",
    "y =seeds_label\n",
    "\n",
    "X_train, X_test, y_train, y_test = train_test_split(\n",
    " X, y, test_size=0.3, random_state=0)\n",
    "y"
   ]
  },
  {
   "cell_type": "code",
   "execution_count": 74,
   "id": "2c02d2e1",
   "metadata": {},
   "outputs": [
    {
     "name": "stdout",
     "output_type": "stream",
     "text": [
      "The accuracy of the test set is: 0.6349206349206349\n",
      "The Current value of the loss function of the training set is: 0.8554049131478036\n",
      "The weight value : [array([[ 1.10270714e-01, -2.15693009e-01, -2.10998496e-01,\n",
      "        -7.85425839e-12,  3.85515966e-01,  6.29769829e-02,\n",
      "        -4.87842836e-02,  9.64596775e-02,  4.60302294e-01,\n",
      "         3.80130190e-01,  2.38855697e-02, -6.55392855e-02,\n",
      "        -7.94641915e-03, -1.07434535e-01, -2.07037583e-01,\n",
      "        -5.09038255e-02, -1.01925436e-01,  4.54252681e-01,\n",
      "        -5.38419566e-02, -4.64322176e-02],\n",
      "       [ 1.56193138e-01,  5.10833889e-09,  1.22777306e-05,\n",
      "        -1.07887558e-09,  1.47854430e-01, -1.67423856e-01,\n",
      "        -4.19698578e-09,  3.04723778e-01,  3.81444116e-01,\n",
      "         3.63516567e-01,  1.17209900e-01,  7.08844824e-06,\n",
      "        -9.81327093e-02,  1.63758552e-01,  4.03824329e-01,\n",
      "         8.95680952e-04, -4.25083396e-05, -3.25695432e-01,\n",
      "         8.33204649e-10, -1.14175070e-01]]), array([[ 1.31228565e-06,  7.61133760e-03, -7.34877193e-03,\n",
      "         1.76923176e-01, -8.43723250e-02, -1.58323281e-02,\n",
      "        -1.43511568e-05, -4.53374192e-02,  7.67831679e-02,\n",
      "        -2.07293205e-05],\n",
      "       [ 1.34728615e-01,  1.90324865e-09,  2.11676223e-08,\n",
      "        -4.55909446e-11,  1.96389792e-02, -1.15163743e-02,\n",
      "        -1.44459494e-06,  9.50203912e-03,  1.86574087e-04,\n",
      "         1.27740341e-06],\n",
      "       [-2.72288567e-04,  1.83167552e-01,  2.16632504e-09,\n",
      "         1.32818457e-07,  1.57966599e-01, -2.11667882e-03,\n",
      "        -9.72966472e-02, -1.62331961e-01,  1.03831007e-04,\n",
      "         9.83592184e-02],\n",
      "       [ 8.28159401e-03,  2.68213622e-02, -1.38806487e-01,\n",
      "         1.89438717e-08, -2.98550222e-02, -9.28949434e-05,\n",
      "        -1.00659368e-01,  5.36506672e-03,  3.19598741e-02,\n",
      "         1.38294211e-01],\n",
      "       [ 2.32415105e-09, -6.63499560e-04,  1.03550941e-01,\n",
      "        -1.09652657e-01, -2.54875022e-01, -6.11515499e-08,\n",
      "        -1.50043446e-04, -1.91918738e-01, -5.10428048e-02,\n",
      "        -6.78486902e-02],\n",
      "       [ 9.21106201e-10, -1.71817082e-07,  2.83546892e-04,\n",
      "         2.19019194e-08, -8.16889940e-02, -3.50003941e-03,\n",
      "        -8.54064081e-03,  1.79260921e-01, -7.24583691e-09,\n",
      "        -1.86494033e-01],\n",
      "       [-1.55759590e-01, -1.93396333e-01, -1.68538438e-05,\n",
      "        -6.25717277e-02, -1.54828012e-01, -4.48319891e-02,\n",
      "         2.52850809e-03, -1.84405471e-01, -2.61062410e-08,\n",
      "         6.81802481e-04],\n",
      "       [-1.64640131e-01, -1.48647322e-01,  1.49751250e-01,\n",
      "        -4.27470582e-09, -1.01390456e-01, -1.07394701e-01,\n",
      "        -9.62567533e-02, -8.98110667e-02, -5.64742149e-02,\n",
      "        -2.62344123e-03],\n",
      "       [ 9.73007509e-09,  2.74466629e-03, -1.28174293e-01,\n",
      "        -2.79816121e-04,  2.46184522e-01,  3.01245259e-08,\n",
      "         4.11216783e-02, -3.85710370e-10, -4.83706919e-04,\n",
      "        -3.18701409e-02],\n",
      "       [-2.34899148e-03, -4.17811214e-02, -1.77923708e-01,\n",
      "        -8.28845266e-02,  1.44022369e-01, -4.00631461e-09,\n",
      "        -1.87851734e-01,  1.17532845e-01,  2.67170059e-09,\n",
      "         9.50774498e-03],\n",
      "       [ 2.13311662e-02, -1.70948088e-01,  2.58556223e-01,\n",
      "        -1.55916845e-07, -1.29117487e-01, -9.79606443e-03,\n",
      "        -5.33623180e-02, -1.73276421e-01, -4.12380723e-02,\n",
      "        -6.18279421e-03],\n",
      "       [ 4.78911961e-02,  8.03359724e-10, -1.18367755e-02,\n",
      "        -3.45495270e-02,  6.95081205e-02,  9.82414503e-04,\n",
      "        -9.83796619e-02, -4.00977043e-02,  1.42126620e-01,\n",
      "         3.18353762e-05],\n",
      "       [-1.15189352e-01, -4.67298277e-02,  2.12196785e-02,\n",
      "         8.61049444e-09,  7.11191750e-02, -6.34326988e-04,\n",
      "         9.65167040e-03, -8.93453541e-04,  1.92590621e-01,\n",
      "         3.76729996e-04],\n",
      "       [ 1.47550408e-07, -1.09223124e-01, -2.67585113e-01,\n",
      "        -1.18356333e-01, -3.98090552e-01,  8.98133150e-02,\n",
      "        -5.42406752e-09, -1.50878963e-03,  5.57639739e-03,\n",
      "        -2.66945666e-02],\n",
      "       [-2.33383514e-02,  1.25288262e-01,  3.29745130e-01,\n",
      "         8.28603063e-02, -5.51804029e-01,  9.69591121e-02,\n",
      "        -1.36933989e-05, -5.08749306e-09,  1.88840370e-01,\n",
      "         5.06031140e-09],\n",
      "       [ 1.44463173e-03,  4.75362802e-02, -1.33829144e-01,\n",
      "         1.68992277e-02,  3.31484303e-02,  1.10669993e-02,\n",
      "        -1.32197201e-08,  1.89222369e-01, -6.70977039e-08,\n",
      "         1.24974750e-01],\n",
      "       [-1.53998937e-01, -5.89124023e-03,  1.18969182e-06,\n",
      "         8.47261215e-03,  4.74916199e-02, -5.03635525e-02,\n",
      "         5.49264526e-07,  2.25704962e-02,  6.12364879e-06,\n",
      "        -1.54361774e-03],\n",
      "       [-3.33409039e-03, -9.69717592e-07,  4.24074618e-01,\n",
      "        -1.88277602e-02,  6.97197175e-01, -3.97051584e-02,\n",
      "        -1.96490096e-01,  5.80774686e-02, -7.74217462e-02,\n",
      "         4.02096400e-09],\n",
      "       [-1.93203394e-01,  4.74706371e-05, -9.22989088e-02,\n",
      "         1.92306682e-03, -5.83365643e-02,  4.42657855e-02,\n",
      "        -4.61600999e-03, -1.61568338e-01, -8.84174484e-02,\n",
      "         9.50857693e-02],\n",
      "       [-1.91552838e-03,  7.60943980e-03, -3.25060540e-09,\n",
      "        -1.50158302e-09, -1.57060312e-01, -9.94907934e-03,\n",
      "         4.78694053e-02,  3.91111741e-03,  1.29430812e-01,\n",
      "         1.95106802e-01]]), array([[-2.37726270e-01, -2.23975300e-01, -1.75323043e-01],\n",
      "       [-3.00793157e-02,  3.52285563e-01, -1.87439021e-02],\n",
      "       [-2.44588801e-01,  2.86836212e-01, -4.82907582e-01],\n",
      "       [ 1.55696672e-08, -1.34367611e-01, -1.41213548e-01],\n",
      "       [-5.60070431e-01,  4.47475821e-01, -5.09995039e-01],\n",
      "       [ 4.15511834e-03, -6.86119412e-02,  3.92238160e-01],\n",
      "       [ 6.49344196e-04, -2.55883085e-01,  2.48030682e-01],\n",
      "       [-5.38503585e-02,  1.67302200e-01,  7.88195604e-03],\n",
      "       [-1.56244201e-07,  1.01052073e-01, -3.03012835e-01],\n",
      "       [-2.99472116e-02,  2.70707558e-01, -3.55548962e-01]])]\n"
     ]
    },
    {
     "name": "stderr",
     "output_type": "stream",
     "text": [
      "C:\\Users\\nada7\\anaconda3\\lib\\site-packages\\sklearn\\neural_network\\_multilayer_perceptron.py:614: ConvergenceWarning: Stochastic Optimizer: Maximum iterations (300) reached and the optimization hasn't converged yet.\n",
      "  warnings.warn(\n"
     ]
    }
   ],
   "source": [
    "mlp = MLPClassifier(hidden_layer_sizes=(20,10),alpha=0.01,max_iter=300)\n",
    "# The model can be trained by calling the fit function. The general method of training by calling the model function is\n",
    "#fit()\n",
    "clf = mlp.fit(X_train,y_train) # Here the y value needs to be reduced to a one-dimensional array\n",
    "# This is how the model is trained, and we can then call a variety of functions to get the trained parameters\n",
    "# For example, to get the accuracy rate\n",
    "print('The accuracy of the test set is:',mlp.score(X_test,y_test))\n",
    "# e.g. output the current Current value of the loss function\n",
    "print('The Current value of the loss function of the training set is:',mlp.loss_)\n",
    "# For example, output the weights of each theta\n",
    "print('The weight value :',mlp.coefs_)"
   ]
  },
  {
   "cell_type": "code",
   "execution_count": 75,
   "id": "494adc12",
   "metadata": {
    "scrolled": false
   },
   "outputs": [
    {
     "name": "stdout",
     "output_type": "stream",
     "text": [
      "The confusion matrix for the training set is:\n",
      " [[13  6  0]\n",
      " [ 0 27  0]\n",
      " [17  0  0]]\n",
      "The classification report for the training set is: \n",
      "               precision    recall  f1-score   support\n",
      "\n",
      "           1       0.43      0.68      0.53        19\n",
      "           2       0.82      1.00      0.90        27\n",
      "           3       0.00      0.00      0.00        17\n",
      "\n",
      "    accuracy                           0.63        63\n",
      "   macro avg       0.42      0.56      0.48        63\n",
      "weighted avg       0.48      0.63      0.55        63\n",
      "\n"
     ]
    },
    {
     "name": "stderr",
     "output_type": "stream",
     "text": [
      "C:\\Users\\nada7\\anaconda3\\lib\\site-packages\\sklearn\\metrics\\_classification.py:1248: UndefinedMetricWarning: Precision and F-score are ill-defined and being set to 0.0 in labels with no predicted samples. Use `zero_division` parameter to control this behavior.\n",
      "  _warn_prf(average, modifier, msg_start, len(result))\n",
      "C:\\Users\\nada7\\anaconda3\\lib\\site-packages\\sklearn\\metrics\\_classification.py:1248: UndefinedMetricWarning: Precision and F-score are ill-defined and being set to 0.0 in labels with no predicted samples. Use `zero_division` parameter to control this behavior.\n",
      "  _warn_prf(average, modifier, msg_start, len(result))\n",
      "C:\\Users\\nada7\\anaconda3\\lib\\site-packages\\sklearn\\metrics\\_classification.py:1248: UndefinedMetricWarning: Precision and F-score are ill-defined and being set to 0.0 in labels with no predicted samples. Use `zero_division` parameter to control this behavior.\n",
      "  _warn_prf(average, modifier, msg_start, len(result))\n"
     ]
    }
   ],
   "source": [
    "matrix_test = confusion_matrix(y_test,mlp.predict(X_test))\n",
    "print('The confusion matrix for the training set is:\\n',matrix_test)\n",
    "# There are multiple metrics in the classification report to evaluate how good the prediction is.\n",
    "# '''\n",
    "# TP: Prediction is 1 (Positive), actual is also 1 (Truth-prediction is correct)\n",
    "# TN: predicted 0 (Negative), also 0 (Truth - predicted correctly)\n",
    "# FP: predicted 1 (Positive), actually 0 (False - wrong prediction)\n",
    "# FN: Prediction is 0 (Negative), actual is 1 (False-prediction is wrong)\n",
    "report_test = classification_report(y_test,mlp.predict(X_test))\n",
    "print(f'The classification report for the training set is: \\n {report_test}')"
   ]
  },
  {
   "cell_type": "code",
   "execution_count": 76,
   "id": "db29e01a",
   "metadata": {},
   "outputs": [],
   "source": [
    "from sklearn.svm import SVC\n",
    "import numpy as np\n",
    "import matplotlib.pyplot as plt\n",
    "from sklearn import svm, datasets\n",
    "from sklearn import metrics\n",
    "\n",
    "\n",
    "\n",
    "\n",
    "def make_meshgrid(x, y, h=.02):\n",
    " x_min, x_max = x.min() - 1, x.max() + 1\n",
    " y_min, y_max = y.min() - 1, y.max() + 1\n",
    " xx, yy = np.meshgrid(np.arange(x_min, x_max, h), np.arange(y_min, y_max, h))\n",
    " return xx, yy\n",
    "def plot_contours(ax, clf, xx, yy, **params):\n",
    " Z = clf.predict(np.c_[xx.ravel(), yy.ravel()])\n",
    " Z = Z.reshape(xx.shape)\n",
    " out = ax.contourf(xx, yy, Z, **params)\n",
    " return out\n",
    "\n"
   ]
  },
  {
   "cell_type": "code",
   "execution_count": 77,
   "id": "88ddd3d3",
   "metadata": {},
   "outputs": [],
   "source": [
    "from sklearn.svm import SVC\n",
    "import numpy as np\n",
    "import matplotlib.pyplot as plt\n",
    "from sklearn import svm, datasets\n"
   ]
  },
  {
   "cell_type": "code",
   "execution_count": 79,
   "id": "1e3c1249",
   "metadata": {},
   "outputs": [
    {
     "data": {
      "image/png": "[encoded data removed]",
      "text/plain": [
       "<Figure size 432x288 with 1 Axes>"
      ]
     },
     "metadata": {},
     "output_type": "display_data"
    },
    {
     "name": "stdout",
     "output_type": "stream",
     "text": [
      "MLP accuracy_score:0.8412698412698413\n"
     ]
    }
   ],
   "source": [
    "model = svm.SVC(kernel=\"rbf\", degree=3)\n",
    "clf = model.fit(X_train, y_train)\n",
    "fig, ax = plt.subplots()\n",
    "# title for the plots\n",
    "title = ('MLP')\n",
    "# Set-up grid for plotting.\n",
    "X0, X1 = X_train[:, 0], X_train[:, 1]\n",
    "xx, yy = make_meshgrid(X0, X1)\n",
    "plot_contours(ax, clf, xx, yy, cmap=plt.cm.coolwarm, alpha=0.8)\n",
    "ax.scatter(X0, X1, c=y_train, cmap=plt.cm.coolwarm, s=20, edgecolors=\"k\")\n",
    "ax.set_xticks(())\n",
    "ax.set_yticks(())\n",
    "ax.set_title(title)\n",
    "plt.show()\n",
    "print(f'MLP accuracy_score:{metrics.accuracy_score(y_test, clf.predict(X_test))}')\n",
    "\n"
   ]
  },
  {
   "cell_type": "code",
   "execution_count": null,
   "id": "4f63cea4",
   "metadata": {},
   "outputs": [],
   "source": []
  }
 ],
 "metadata": {
  "kernelspec": {
   "display_name": "Python 3 (ipykernel)",
   "language": "python",
   "name": "python3"
  },
  "language_info": {
   "codemirror_mode": {
    "name": "ipython",
    "version": 3
   },
   "file_extension": ".py",
   "mimetype": "text/x-python",
   "name": "python",
   "nbconvert_exporter": "python",
   "pygments_lexer": "ipython3",
   "version": "3.9.7"
  }
 },
 "nbformat": 4,
 "nbformat_minor": 5
}

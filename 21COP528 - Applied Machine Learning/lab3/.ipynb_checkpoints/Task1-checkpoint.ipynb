{
 "cells": [
  {
   "cell_type": "code",
   "execution_count": 2,
   "id": "79f048c7",
   "metadata": {},
   "outputs": [],
   "source": [
    "import numpy as np\n",
    "import matplotlib.pyplot as plt\n",
    "# Distance between two points\n",
    "def distance(e1, e2):\n",
    "    return np.sqrt((e1[0]-e2[0])**2+(e1[1]-e2[1])**2)\n",
    "# Pick K random points in arr\n",
    "def Pick_K_random_points(arr,k):\n",
    "    r = np.random.randint(arr.__len__() - 1, size=(k))\n",
    "    K_random_point= arr[r]\n",
    "    return K_random_point\n",
    "# Get the collection centre\n",
    "def means(arr):\n",
    "    return np.array([np.mean([e[0] for e in arr]), np.mean([e[1] for e in arr])])\n"
   ]
  },
  {
   "cell_type": "code",
   "execution_count": 3,
   "id": "8fdb8345",
   "metadata": {},
   "outputs": [],
   "source": [
    "import numpy as np\n",
    "import matplotlib.pyplot as plt\n",
    "# Distance between two points\n",
    "def distance(e1, e2):\n",
    "    return np.sqrt((e1[0]-e2[0])**2+(e1[1]-e2[1])**2)\n",
    "# Pick K random points in arr\n",
    "def Pick_K_random_points(arr,k):\n",
    "    r = np.random.randint(arr.__len__() - 1, size=(k))\n",
    "    K_random_point= arr[r]\n",
    "    return K_random_point\n",
    "# Get the collection centre\n",
    "def means(arr):\n",
    "    return np.array([np.mean([e[0] for e in arr]), np.mean([e[1] for e in arr])])\n"
   ]
  },
  {
   "cell_type": "code",
   "execution_count": 5,
   "id": "9427b10a",
   "metadata": {},
   "outputs": [
    {
     "data": {
      "image/png": "[encoded data removed]",
      "text/plain": [
       "<Figure size 432x288 with 1 Axes>"
      ]
     },
     "metadata": {
      "needs_background": "light"
     },
     "output_type": "display_data"
    }
   ],
   "source": [
    "# generate the experimental data\n",
    "import numpy as np\n",
    "import matplotlib.pyplot as plt\n",
    "%matplotlib inline\n",
    "from sklearn.datasets import make_blobs\n",
    "# X is the sample feature, Y is the sample cluster category, 1000 samples, 2 features per sample, 4 clusters,\n",
    "#cluster centres in [-1,-1], [0,0], [1,1], [2,2], cluster variances [0.4, 0.2, 0.2, 0.2] respectively\n",
    "X, y = make_blobs(n_samples=100, n_features=2, centers=[[-1,-1], [0,0], [1,1], [2,2]], cluster_std=[0.4, 0.2, 0.2, 0.2],\n",
    " random_state =9)\n",
    "plt.scatter(X[:, 0], X[:, 1], marker='o')\n",
    "plt.show()"
   ]
  },
  {
   "cell_type": "code",
   "execution_count": 34,
   "id": "4cb82208",
   "metadata": {},
   "outputs": [
    {
     "name": "stdout",
     "output_type": "stream",
     "text": [
      "[[-0.03394795  0.48342126]\n",
      " [-0.13123732 -0.13234134]\n",
      " [ 0.8418326   1.12877884]\n",
      " [-2.068844   -1.36531171]\n",
      " [-0.24216775 -0.10068108]]\n"
     ]
    }
   ],
   "source": [
    "K = 5\n",
    "k_Centre = Pick_K_random_points(X,K)\n",
    "print(k_Centre)\n"
   ]
  },
  {
   "cell_type": "code",
   "execution_count": 35,
   "id": "8f333988",
   "metadata": {},
   "outputs": [],
   "source": [
    "cla_arr = [[]]\n",
    "for i in range(K-1):\n",
    "    cla_arr.append([])\n",
    "D=np.zeros(K)\n",
    "D_stop=np.ones(K)"
   ]
  },
  {
   "cell_type": "code",
   "execution_count": 36,
   "id": "325cab9c",
   "metadata": {},
   "outputs": [],
   "source": [
    "cla_temp = cla_arr"
   ]
  },
  {
   "cell_type": "code",
   "execution_count": 37,
   "id": "d60c27b6",
   "metadata": {},
   "outputs": [
    {
     "name": "stdout",
     "output_type": "stream",
     "text": [
      "[[ 1.00869224  1.13197378]\n",
      " [-0.43977713 -0.4992033 ]\n",
      " [ 1.48175155  1.54464083]\n",
      " [-1.29399594 -1.14587505]\n",
      " [-0.64523409 -0.43215501]]\n",
      "[[ 1.18213462  1.27049506]\n",
      " [-0.36616896 -0.37426586]\n",
      " [ 1.98111309  2.00155044]\n",
      " [-1.2312781  -1.12580228]\n",
      " [-0.79065254 -0.36626147]]\n",
      "[[ 1.18213462  1.27049506]\n",
      " [-0.35678927 -0.3481806 ]\n",
      " [ 1.98111309  2.00155044]\n",
      " [-1.13639892 -1.10045415]\n",
      " [-0.86951948 -0.47352863]]\n"
     ]
    }
   ],
   "source": [
    "N=0 #Define an Iterative count N\n",
    "while all(D!=D_stop) and N<5:\n",
    "    for e in X: # Clustering each element of the set to the nearest class\n",
    "        ki = 0 # Assumes closest to first centre\n",
    "        min_d = distance(e, k_Centre[ki])\n",
    "        for j in range(1, k_Centre.__len__()):\n",
    "            if distance(e, k_Centre[j]) < min_d: # Find closer clustering centres\n",
    "                min_d = distance(e, k_Centre[j])\n",
    "                ki = j\n",
    "            cla_temp[ki].append(e)\n",
    "    Clustering=cla_temp.copy()\n",
    "    for k in range(k_Centre.__len__()):\n",
    "        k_Centre\n",
    "        new_k_Centre=means(cla_temp[k])\n",
    "        if all(k_Centre[k] == means(cla_temp[k])):\n",
    "            D[k]=1.\n",
    "        else:\n",
    "            D[k]=0\n",
    "        k_Centre[k] = means(cla_temp[k])\n",
    "        cla_temp[k] = []\n",
    "    N=N+1\n",
    "    print(k_Centre)\n"
   ]
  },
  {
   "cell_type": "code",
   "execution_count": null,
   "id": "8ec10958",
   "metadata": {},
   "outputs": [],
   "source": []
  },
  {
   "cell_type": "code",
   "execution_count": 38,
   "id": "675d6452",
   "metadata": {},
   "outputs": [
    {
     "data": {
      "image/png": "[encoded data removed]",
      "text/plain": [
       "<Figure size 432x288 with 1 Axes>"
      ]
     },
     "metadata": {
      "needs_background": "light"
     },
     "output_type": "display_data"
    }
   ],
   "source": [
    "col = ['HotPink', 'Aqua', 'Chartreuse', 'yellow', 'LightSalmon', 'blue']\n",
    "for i in range(K):\n",
    "    plt.scatter(k_Centre[i][0], k_Centre[i][1], linewidth=10, color=col[i])\n",
    "    plt.scatter([e[0] for e in Clustering[i]], [e[1] for e in Clustering[i]], color=col[i])\n",
    "plt.show()"
   ]
  },
  {
   "cell_type": "markdown",
   "id": "638d619c",
   "metadata": {},
   "source": [
    " Silhouette Scores "
   ]
  },
  {
   "cell_type": "code",
   "execution_count": 23,
   "id": "ef44b418",
   "metadata": {},
   "outputs": [
    {
     "data": {
      "text/plain": [
       "0.6441195808691298"
      ]
     },
     "execution_count": 23,
     "metadata": {},
     "output_type": "execute_result"
    }
   ],
   "source": [
    "from sklearn import metrics\n",
    "silhouetteScore=metrics.silhouette_score(X, y, metric='euclidean', sample_size=None,\n",
    "random_state=None)\n",
    "silhouetteScore\n"
   ]
  },
  {
   "cell_type": "code",
   "execution_count": null,
   "id": "b540260e",
   "metadata": {},
   "outputs": [],
   "source": []
  }
 ],
 "metadata": {
  "kernelspec": {
   "display_name": "Python 3 (ipykernel)",
   "language": "python",
   "name": "python3"
  },
  "language_info": {
   "codemirror_mode": {
    "name": "ipython",
    "version": 3
   },
   "file_extension": ".py",
   "mimetype": "text/x-python",
   "name": "python",
   "nbconvert_exporter": "python",
   "pygments_lexer": "ipython3",
   "version": "3.9.7"
  }
 },
 "nbformat": 4,
 "nbformat_minor": 5
}

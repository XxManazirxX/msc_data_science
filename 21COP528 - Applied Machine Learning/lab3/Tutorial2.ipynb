{
 "cells": [
  {
   "cell_type": "code",
   "execution_count": 1,
   "id": "06ce20b9",
   "metadata": {},
   "outputs": [],
   "source": [
    "import numpy as np\n",
    "from sklearn import metrics\n"
   ]
  },
  {
   "cell_type": "code",
   "execution_count": 2,
   "id": "c52bfa85",
   "metadata": {},
   "outputs": [],
   "source": [
    "def purity_score(y_true, y_pred):\n",
    " # compute contingency matrix (also called confusion matrix)\n",
    " contingency_matrix = metrics.cluster.contingency_matrix(y_true, y_pred)\n",
    " # return purity\n",
    " return np.sum(np.amax(contingency_matrix, axis=0)) / np.sum(contingency_matrix)"
   ]
  },
  {
   "cell_type": "code",
   "execution_count": 23,
   "id": "53b805c3",
   "metadata": {
    "collapsed": true
   },
   "outputs": [
    {
     "ename": "NameError",
     "evalue": "name 'X' is not defined",
     "output_type": "error",
     "traceback": [
      "\u001b[1;31m---------------------------------------------------------------------------\u001b[0m",
      "\u001b[1;31mNameError\u001b[0m                                 Traceback (most recent call last)",
      "\u001b[1;32m~\\AppData\\Local\\Temp/ipykernel_5404/3134542949.py\u001b[0m in \u001b[0;36m<module>\u001b[1;34m\u001b[0m\n\u001b[0;32m      1\u001b[0m \u001b[1;32mfrom\u001b[0m \u001b[0msklearn\u001b[0m \u001b[1;32mimport\u001b[0m \u001b[0mmetrics\u001b[0m\u001b[1;33m\u001b[0m\u001b[1;33m\u001b[0m\u001b[0m\n\u001b[1;32m----> 2\u001b[1;33m silhouetteScore=metrics.silhouette_score(X, y_pred, metric='euclidean', sample_size=None,\n\u001b[0m\u001b[0;32m      3\u001b[0m random_state=None)\n",
      "\u001b[1;31mNameError\u001b[0m: name 'X' is not defined"
     ]
    }
   ],
   "source": [
    "from sklearn import metrics\n",
    "silhouetteScore=metrics.silhouette_score(X, y_pred, metric='euclidean', sample_size=None,\n",
    "random_state=None)"
   ]
  },
  {
   "cell_type": "code",
   "execution_count": 39,
   "id": "f21345bc",
   "metadata": {},
   "outputs": [],
   "source": [
    "import numpy as np\n",
    "import matplotlib.pyplot as plt\n",
    "# Distance between two points\n",
    "def distance(e1, e2):\n",
    " return np.sqrt((e1[0]-e2[0])**2+(e1[1]-e2[1])**2)\n"
   ]
  },
  {
   "cell_type": "code",
   "execution_count": 31,
   "id": "1fe14d04",
   "metadata": {},
   "outputs": [],
   "source": [
    "# Pick K random points in arr\n",
    "def Pick_K_random_points(arr,k):\n",
    "\n",
    " r = np.random.randint(arr.__len__() - 1, size=(k))\n",
    " K_random_point= arr[r]\n",
    " return K_random_point"
   ]
  },
  {
   "cell_type": "code",
   "execution_count": 32,
   "id": "b98aa546",
   "metadata": {},
   "outputs": [],
   "source": [
    "# Get the collection centre\n",
    "def means(arr):\n",
    "    \n",
    "    return np.array([np.mean([e[0] for e in arr]), np.mean([e[1] for e in arr])])\n"
   ]
  },
  {
   "cell_type": "code",
   "execution_count": 33,
   "id": "5e2bb677",
   "metadata": {},
   "outputs": [
    {
     "name": "stdout",
     "output_type": "stream",
     "text": [
      "[[58 19]\n",
      " [ 4 36]\n",
      " [66 80]\n",
      " [31 55]\n",
      " [45 24]\n",
      " [38 45]\n",
      " [ 2 76]\n",
      " [67 46]\n",
      " [82 49]\n",
      " [66 74]]\n"
     ]
    },
    {
     "data": {
      "image/png": "[encoded data removed]",
      "text/plain": [
       "<Figure size 432x288 with 1 Axes>"
      ]
     },
     "metadata": {
      "needs_background": "light"
     },
     "output_type": "display_data"
    }
   ],
   "source": [
    "#get the teat dataset\n",
    "array_test = np.random.randint(100, size=(10, 1, 2))[:, 0, :]\n",
    "print(array_test)\n",
    "plt.scatter(array_test[:, 0], array_test[:, 1], marker='o')\n",
    "plt.show()"
   ]
  },
  {
   "cell_type": "code",
   "execution_count": 34,
   "id": "6dd132fd",
   "metadata": {},
   "outputs": [],
   "source": [
    "# Set the number of clusters K\n",
    "K=3\n"
   ]
  },
  {
   "cell_type": "code",
   "execution_count": 35,
   "id": "fca04871",
   "metadata": {},
   "outputs": [
    {
     "name": "stdout",
     "output_type": "stream",
     "text": [
      "[[66 80]\n",
      " [ 2 76]\n",
      " [58 19]]\n"
     ]
    }
   ],
   "source": [
    "# Pick K random points， Pick K random points as cluster\n",
    "k_Centre=Pick_K_random_points(array_test,K)\n",
    "print(k_Centre)"
   ]
  },
  {
   "cell_type": "code",
   "execution_count": 36,
   "id": "81e13ffd",
   "metadata": {},
   "outputs": [],
   "source": [
    "## Initialize the clustering array\n",
    "cla_arr = [[]]\n",
    "for i in range(K-1):\n",
    " cla_arr.append([]) "
   ]
  },
  {
   "cell_type": "code",
   "execution_count": 37,
   "id": "2e6e26f1",
   "metadata": {},
   "outputs": [
    {
     "data": {
      "text/plain": [
       "array([1., 1., 1.])"
      ]
     },
     "execution_count": 37,
     "metadata": {},
     "output_type": "execute_result"
    }
   ],
   "source": [
    "## Iterative clustering\n",
    "D=np.zeros(K)\n",
    "D_stop=np.ones(K)\n",
    "D_stop"
   ]
  },
  {
   "cell_type": "code",
   "execution_count": 38,
   "id": "c170daf7",
   "metadata": {},
   "outputs": [
    {
     "data": {
      "text/plain": [
       "[[], [], []]"
      ]
     },
     "execution_count": 38,
     "metadata": {},
     "output_type": "execute_result"
    }
   ],
   "source": [
    "cla_temp = cla_arr\n",
    "cla_temp"
   ]
  },
  {
   "cell_type": "code",
   "execution_count": null,
   "id": "74e45ae3",
   "metadata": {},
   "outputs": [],
   "source": [
    "N=0 #Define an Iterative count N\n",
    "while all(D!=D_stop) and N<20: #Centre no longer changes or iterates to a certain times of iterations\n",
    " # Initialize the cla_temp array\n",
    "    for e in array_test: # Clustering each element of the set to the nearest class\n",
    "        ki = 0 # Assumes closest to first centre\n",
    "        min_d = distance(e, k_Centre[ki])\n",
    "        for j in range(1, k_Centre.__len__()):\n",
    "            if distance(e, k_Centre[j]) < min_d: # Find closer clustering centres\n",
    "                min_d = distance(e, k_Centre[j])\n",
    "                ki = j\n",
    "        cla_temp[ki].append(e)\n",
    "    Clustering=cla_temp.copy()\n",
    "\n"
   ]
  },
  {
   "cell_type": "code",
   "execution_count": null,
   "id": "521ad291",
   "metadata": {},
   "outputs": [],
   "source": [
    "# Updating the Clustering Centre\n",
    "for k in range(k_Centre.__len__()):\n",
    "    k_Centre\n",
    "    new_k_Centre=means(cla_temp[k])\n",
    "    if all(k_Centre[k] == means(cla_temp[k])):\n",
    "        D[k]=1.\n",
    "    else:\n",
    "        D[k]=0.\n",
    "        k_Centre[k] = means(cla_temp[k])\n",
    "        cla_temp[k] = []\n",
    "N=N+1\n",
    "print(k_Centre)"
   ]
  },
  {
   "cell_type": "code",
   "execution_count": null,
   "id": "71dfed28",
   "metadata": {},
   "outputs": [],
   "source": [
    "## Visualisation\n",
    "col = ['HotPink', 'Aqua', 'Chartreuse', 'yellow', 'LightSalmon']\n",
    "for i in range(K):\n",
    "    plt.scatter(k_Centre[i][0], k_Centre[i][1], linewidth=10, color=col[i])\n",
    "    plt.scatter([e[0] for e in Clustering[i]], [e[1] for e in Clustering[i]], color=col[i])\n",
    "plt.show()"
   ]
  },
  {
   "cell_type": "code",
   "execution_count": null,
   "id": "9a4c98a6",
   "metadata": {},
   "outputs": [],
   "source": []
  }
 ],
 "metadata": {
  "kernelspec": {
   "display_name": "Python 3 (ipykernel)",
   "language": "python",
   "name": "python3"
  },
  "language_info": {
   "codemirror_mode": {
    "name": "ipython",
    "version": 3
   },
   "file_extension": ".py",
   "mimetype": "text/x-python",
   "name": "python",
   "nbconvert_exporter": "python",
   "pygments_lexer": "ipython3",
   "version": "3.9.7"
  }
 },
 "nbformat": 4,
 "nbformat_minor": 5
}

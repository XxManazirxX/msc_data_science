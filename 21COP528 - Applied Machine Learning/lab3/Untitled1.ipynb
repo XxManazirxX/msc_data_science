{
 "cells": [
  {
   "cell_type": "code",
   "execution_count": 1,
   "id": "978e538d",
   "metadata": {},
   "outputs": [
    {
     "ename": "IndentationError",
     "evalue": "expected an indented block (Temp/ipykernel_24048/1937378017.py, line 14)",
     "output_type": "error",
     "traceback": [
      "\u001b[1;36m  File \u001b[1;32m\"C:\\Users\\nada7\\AppData\\Local\\Temp/ipykernel_24048/1937378017.py\"\u001b[1;36m, line \u001b[1;32m14\u001b[0m\n\u001b[1;33m    return np.array([np.mean([e[0] for e in arr]), np.mean([e[1] for e in arr])])\u001b[0m\n\u001b[1;37m    ^\u001b[0m\n\u001b[1;31mIndentationError\u001b[0m\u001b[1;31m:\u001b[0m expected an indented block\n"
     ]
    }
   ],
   "source": []
  },
  {
   "cell_type": "code",
   "execution_count": null,
   "id": "7663cacf",
   "metadata": {},
   "outputs": [],
   "source": []
  }
 ],
 "metadata": {
  "kernelspec": {
   "display_name": "Python 3 (ipykernel)",
   "language": "python",
   "name": "python3"
  },
  "language_info": {
   "codemirror_mode": {
    "name": "ipython",
    "version": 3
   },
   "file_extension": ".py",
   "mimetype": "text/x-python",
   "name": "python",
   "nbconvert_exporter": "python",
   "pygments_lexer": "ipython3",
   "version": "3.9.7"
  }
 },
 "nbformat": 4,
 "nbformat_minor": 5
}
